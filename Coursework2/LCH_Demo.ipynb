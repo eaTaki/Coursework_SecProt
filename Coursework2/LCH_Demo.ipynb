{
 "cells": [
  {
   "cell_type": "markdown",
   "metadata": {},
   "source": [
    "# LCH Demo"
   ]
  },
  {
   "cell_type": "code",
   "execution_count": 1,
   "metadata": {},
   "outputs": [
    {
     "name": "stdout",
     "output_type": "stream",
     "text": [
      "97 + 59 = 156\n"
     ]
    }
   ],
   "source": [
    "from utils import get_GP, generate_gp\n",
    "\n",
    "G, P = get_GP(load_file = True, nbits = 1024)\n",
    "\n",
    "from mife import ElGamal\n",
    "from utils import enc_gamal_additive, dec_gamal_additive\n",
    "import random\n",
    "\n",
    "# generating random r\n",
    "r = random.randint(1, P-1)\n",
    "\n",
    "# generating random messages\n",
    "m1, m2 = random.randint(1, 100), random.randint(1, 100)\n",
    "print(f\"{m1} + {m2} = {m1+m2}\")\n",
    "\n",
    "# generating two ElGamal instances\n",
    "eg1 = ElGamal(nbits=1024, G=G, P=P)\n",
    "eg2 = ElGamal(nbits=1024, G=G, P=P)\n",
    "\n",
    "\n",
    "enc = [eg1.enc(m1, r=r), eg2.enc(m2, r=r)]\n",
    "c_1 = enc[0][0]*enc[1][0] % P, enc[0][1]*enc[1][1] % P\n",
    "c_2 = enc_gamal_additive((m1 + m2)%P, (eg1.pk*eg2.pk)%P, G, P, r=r)"
   ]
  },
  {
   "cell_type": "markdown",
   "metadata": {},
   "source": [
    "$$\n",
    "c_1 = \\left( \\text{Enc}\\left( m_1, pk_1\\right) · \\text{Enc}\\left( m_2, pk_2\\right)\\right) \\% P\n",
    "$$"
   ]
  },
  {
   "cell_type": "code",
   "execution_count": 2,
   "metadata": {},
   "outputs": [
    {
     "name": "stdout",
     "output_type": "stream",
     "text": [
      "c_1:(...94713, ...03026)\n"
     ]
    }
   ],
   "source": [
    "print(f\"c_1:(...{str(c_1[0])[-5:]}, ...{str(c_1[1])[-5:]})\")"
   ]
  },
  {
   "cell_type": "markdown",
   "metadata": {},
   "source": [
    "$$\n",
    "c_2 = \\text{Enc}\\left( (m_1 + m_2)\\%P, (pk_1·pk_2)\\%P \\right)\n",
    "$$"
   ]
  },
  {
   "cell_type": "code",
   "execution_count": 3,
   "metadata": {},
   "outputs": [
    {
     "name": "stdout",
     "output_type": "stream",
     "text": [
      "c_2:(...99743, ...03026)\n"
     ]
    }
   ],
   "source": [
    "print(F\"c_2:(...{str(c_2[0])[-5:]}, ...{str(c_2[1])[-5:]})\")"
   ]
  },
  {
   "cell_type": "code",
   "execution_count": 4,
   "metadata": {},
   "outputs": [
    {
     "name": "stdout",
     "output_type": "stream",
     "text": [
      "The two ciphertexts are equal\n",
      "Decryption: 156\n"
     ]
    }
   ],
   "source": [
    "if c_1[1] == c_2[1]:\n",
    "    print(\"The two ciphertexts are equal\")\n",
    "d1 = dec_gamal_additive(c_1, eg2.sk, G, P)\n",
    "d2 = dec_gamal_additive(c_2, eg1.sk + eg2.sk % P, G, P)\n",
    "d3 = dec_gamal_additive((pow(G, r, P), c_1[1]), eg1.sk + eg2.sk, G, P)\n",
    "if d1 == d2 == d3:\n",
    "    print(f\"Decryption: {d1}\")\n"
   ]
  }
 ],
 "metadata": {
  "kernelspec": {
   "display_name": "Python 3",
   "language": "python",
   "name": "python3"
  },
  "language_info": {
   "codemirror_mode": {
    "name": "ipython",
    "version": 3
   },
   "file_extension": ".py",
   "mimetype": "text/x-python",
   "name": "python",
   "nbconvert_exporter": "python",
   "pygments_lexer": "ipython3",
   "version": "3.10.11"
  }
 },
 "nbformat": 4,
 "nbformat_minor": 2
}
