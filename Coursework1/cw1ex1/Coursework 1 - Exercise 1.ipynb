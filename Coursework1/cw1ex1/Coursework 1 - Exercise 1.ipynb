{
 "authors": [
  {
   "name": "Enrique Takiguchi"
  }
 ],
 "cells": [
  {
   "cell_type": "markdown",
   "metadata": {},
   "source": [
    "Alice wants to send a couple of secret messages to Bob. To achieve this, they both agreed on OTP key which they will use for encryption and decryption. While one of the messages were being sent you managed to obtain both the plaintext message $m_1$ and the corresponding ciphertext $c_1$.\n",
    "\n",
    "a) Can you compute the OTP key from $m_1$ and $c_1$, when:\n",
    "\n",
    "$$\n",
    "m_1 = \\text{LIFEISLIKEABOXOFCHOCOLATES}\n",
    "$$\n",
    "\n",
    "$$\n",
    "c_1 = \\text{CXGDXNIPWXYXTONWQTCVCFXKCY}\n",
    "$$\n",
    "\n",
    "If it is possible, describe the process of how to achieve the key.\n",
    "\n",
    "b) Alice and Bob continue to use the same OTP key for multiple messages. Please recover the new message $m_2$ using all previously known information.\n",
    "\n",
    "$$\n",
    "c_2 = \\text{PDVMTQBYWGMSBYZKMAIPWFIXCZ}\n",
    "$$\n",
    "\n",
    "---\n",
    "\n",
    "a) To compute the OTP key we have just have to calculate the distance between each letter of the ciphertext and plaintext. \n",
    "\n",
    "We can implement the following function:\n"
   ]
  },
  {
   "cell_type": "code",
   "execution_count": 1,
   "metadata": {},
   "outputs": [],
   "source": [
    "def get_key(ciphertext, plaintext):\n",
    "    assert len(ciphertext) == len(plaintext), \"Ciphertext and plaintext must be of the same length\"\n",
    "    return [ord(ciphertext[i]) - ord(plaintext[i]) for i in range(len(ciphertext))]"
   ]
  },
  {
   "cell_type": "markdown",
   "metadata": {},
   "source": [
    "And then we get the key:"
   ]
  },
  {
   "cell_type": "code",
   "execution_count": 2,
   "metadata": {},
   "outputs": [
    {
     "name": "stdout",
     "output_type": "stream",
     "text": [
      "[-9, 15, 1, -1, 15, -5, -3, 7, 12, 19, 24, 22, 5, -9, -1, 17, 14, 12, -12, 19, -12, -6, 23, -9, -2, 6]\n"
     ]
    }
   ],
   "source": [
    "ciphertext = \"CXGDXNIPWXYXTONWQTCVCFXKCY\"\n",
    "plaintext = \"LIFEISLIKEABOXOFCHOCOLATES\"\n",
    "\n",
    "key = get_key(ciphertext, plaintext)\n",
    "print(key)"
   ]
  },
  {
   "cell_type": "markdown",
   "metadata": {},
   "source": [
    "b) To obtain the second message, we have to reverse the operation, by substracting the key to each character of the ciphertext, making sure we perform the right modulus operations to assert the characters remain within the letter range"
   ]
  },
  {
   "cell_type": "code",
   "execution_count": 3,
   "metadata": {},
   "outputs": [],
   "source": [
    "def decrypt(ciphertext, key):\n",
    "    return \"\".join([chr((ord(ciphertext[i]) - key[i] - 65) % 26 + 65) for i in range(len(ciphertext))])"
   ]
  },
  {
   "cell_type": "markdown",
   "metadata": {},
   "source": [
    "This way we get the following message:"
   ]
  },
  {
   "cell_type": "code",
   "execution_count": 4,
   "metadata": {},
   "outputs": [
    {
     "name": "stdout",
     "output_type": "stream",
     "text": [
      "YOUNEVERKNOWWHATYOUWILLGET\n"
     ]
    }
   ],
   "source": [
    "ciphertext2 = \"PDVMTQBYWGMSBYZKMAIPWFIXCZ\"\n",
    "print(decrypt(ciphertext2, key))\n"
   ]
  }
 ],
 "metadata": {
  "kernelspec": {
   "display_name": "Python 3",
   "language": "python",
   "name": "python3"
  },
  "language_info": {
   "codemirror_mode": {
    "name": "ipython",
    "version": 3
   },
   "file_extension": ".py",
   "mimetype": "text/x-python",
   "name": "python",
   "nbconvert_exporter": "python",
   "pygments_lexer": "ipython3",
   "version": "3.10.11"
  },
  "orig_nbformat": 4
 },
 "nbformat": 4,
 "nbformat_minor": 2
}
