{
 "authors": [
  {
   "name": "Enrique Takiguchi"
  }
 ],
 "cells": [
  {
   "cell_type": "markdown",
   "metadata": {},
   "source": [
    "Alice wants to send a couple of secret messages to Bob. To achieve this, they both agreed on OTP key which they will use for encryption and decryption. While one of the messages were being sent you managed to obtain both the plaintext message $m_1$ and the corresponding ciphertext $c_1$.\n",
    "\n",
    "a) Can you compute the OTP key from $m_1$ and $c_1$, when:\n",
    "\n",
    "$$\n",
    "m_1 = \\text{LIFEISLIKEABOXOFCHOCOLATES}\n",
    "$$\n",
    "\n",
    "$$\n",
    "c_1 = \\text{CXGDXNIPWXYXTONWQTCVCFXKCY}\n",
    "$$\n",
    "\n",
    "If it is possible, describe the process of how to achieve the key.\n",
    "\n",
    "b) Alice and Bob continue to use the same OTP key for multiple messages. Please recover the new message $m_2$ using all previously known information.\n",
    "\n",
    "$$\n",
    "c_2 = \\text{PDVMTQBYWGMSBYZKMAIPWFIXCZ}\n",
    "$$\n",
    "\n",
    "---\n",
    "We first define the functions:\n"
   ]
  },
  {
   "cell_type": "code",
   "execution_count": 1,
   "metadata": {},
   "outputs": [],
   "source": [
    "plaintext = \"LIFEISLIKEABOXOFCHOCOLATES\"\n",
    "ciphertext = \"CXGDXNIPWXYXTONWQTCVCFXKCY\"\n",
    "ciphertext2 = \"PDVMTQBYWGMSBYZKMAIPWFIXCZ\"\n",
    "\n",
    "def str2bin(s):\n",
    "    return ''.join(format(ord(i), '08b') for i in s)\n",
    "\n",
    "def bin2str(b):\n",
    "    return ''.join(chr(int(b[i:i+8], 2)) for i in range(0, len(b), 8))\n",
    "\n",
    "def xor(a, b):\n",
    "    return ''.join(str(int(a) ^ int(b)) for a,b in zip(a, b))\n"
   ]
  },
  {
   "cell_type": "markdown",
   "metadata": {},
   "source": [
    "And now proceed to convert the strings into binary elements. We do this by assuming we are working with ASCII characters, this is of great importance as working with different encodings, we would end up with completly different results"
   ]
  },
  {
   "cell_type": "code",
   "execution_count": 2,
   "metadata": {},
   "outputs": [
    {
     "name": "stdout",
     "output_type": "stream",
     "text": [
      "Binary length: 208\n"
     ]
    }
   ],
   "source": [
    "bin_plaintext = str2bin(plaintext)\n",
    "bin_ciphertext = str2bin(ciphertext)\n",
    "print(f\"Binary length: {len(bin_plaintext)}\")\n"
   ]
  },
  {
   "cell_type": "markdown",
   "metadata": {},
   "source": [
    "The *XOR* operation is a bidirectional operation, meaning that:\n",
    "\n",
    "$$\n",
    "c = k \\oplus t \\leftrightarrow k = c \\oplus\n",
    "$$\n",
    "\n",
    "With this in mind we just need to compute the *XOR* operation between the two binary values computed in the previous step"
   ]
  },
  {
   "cell_type": "code",
   "execution_count": 3,
   "metadata": {},
   "outputs": [],
   "source": [
    "# XOR the plaintext and ciphertext to get the key\n",
    "bin_key = xor(bin_ciphertext, bin_plaintext)"
   ]
  },
  {
   "cell_type": "markdown",
   "metadata": {},
   "source": [
    "Now we can go ahead and get the key back as a string:"
   ]
  },
  {
   "cell_type": "code",
   "execution_count": 4,
   "metadata": {},
   "outputs": [
    {
     "name": "stdout",
     "output_type": "stream",
     "text": [
      "Bin key: 0000111100010001000000010000000100010001000111010000010100011001000111000001110100011000000110100001101100010111000000010001000100010010000111000000110000010101000011000000101000011001000111110000011000001010\n",
      "Hex Key: 0xf110101111d05191c1d181a1b170111121c0c150c0a191f060a\n"
     ]
    }
   ],
   "source": [
    "# Convert the key to ASCII\n",
    "key = bin2str(bin_key)\n",
    "print(f\"Bin key: {bin_key}\\nHex Key: {hex(int(bin_key, 2))}\")"
   ]
  },
  {
   "cell_type": "markdown",
   "metadata": {},
   "source": [
    "We check that the reverse operations are still valid:"
   ]
  },
  {
   "cell_type": "code",
   "execution_count": 5,
   "metadata": {},
   "outputs": [
    {
     "name": "stdout",
     "output_type": "stream",
     "text": [
      "Key is correct\n"
     ]
    }
   ],
   "source": [
    "if(xor(bin_ciphertext, bin_key) == bin_plaintext and xor(bin_plaintext, bin_key) == bin_ciphertext):\n",
    "    print(\"Key is correct\")"
   ]
  },
  {
   "cell_type": "markdown",
   "metadata": {},
   "source": [
    "For this next section it is important to understand the concept of the OTP: One Time Pad.\n",
    "\n",
    "What this means is that <u>the key used for one encryption can only be used once</u>, so using it to decrypt a second message would not be valid\n",
    "\n",
    "*If* we still wanted to deciphre the message we would have to do the same operations as before:\n",
    "1. Convert the ciphertext/key to binary\n",
    "2. Compute the XOR operation\n",
    "3. Decode the binary result to ascii(assuming ascii is being used)\n",
    "\n",
    "The result would be the following(insist that this does not make sense in a practical way, since the key used is not valid and we would need the correct one)"
   ]
  },
  {
   "cell_type": "code",
   "execution_count": 6,
   "metadata": {},
   "outputs": [
    {
     "name": "stdout",
     "output_type": "stream",
     "text": [
      "_UWLELG@KZUIYN[Z_]EE[LPGEP\n"
     ]
    }
   ],
   "source": [
    "# Decrypt the second ciphertext\n",
    "bin_ciphertext2 = str2bin(ciphertext2)\n",
    "bin_plaintext2 = xor(bin_ciphertext2, bin_key)\n",
    "plaintext2 = bin2str(bin_plaintext2)\n",
    "print(plaintext2)"
   ]
  }
 ],
 "metadata": {
  "kernelspec": {
   "display_name": "Python 3",
   "language": "python",
   "name": "python3"
  },
  "language_info": {
   "codemirror_mode": {
    "name": "ipython",
    "version": 3
   },
   "file_extension": ".py",
   "mimetype": "text/x-python",
   "name": "python",
   "nbconvert_exporter": "python",
   "pygments_lexer": "ipython3",
   "version": "3.10.11"
  },
  "orig_nbformat": 4
 },
 "nbformat": 4,
 "nbformat_minor": 2
}
