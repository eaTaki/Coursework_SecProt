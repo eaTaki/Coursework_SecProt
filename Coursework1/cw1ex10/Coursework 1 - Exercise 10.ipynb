{
 "cells": [
  {
   "cell_type": "markdown",
   "metadata": {},
   "source": [
    "\n",
    "Consider the following key distribution protocol in which two users Alice and Bob wish to establish a shared key $\\mathsf{K_{AB}}$ with the help of a trusted server $S$. Assume Alice and Bob share secret keys $\\mathsf{K_{AS}}$ and $\\mathsf{K_{BS}}$ with $S$ and that nonces are 64 bits long and keys are 128 bits long.\n",
    "\n",
    "1. $A \\rightarrow B: Alice, N_A$\n",
    "2. $B \\rightarrow S: Bob, N_B, \\mathsf{Enc}(\\mathsf{K_{BS}}, \\langle A, N_A, N_B \\rangle)$\n",
    "3. $S \\rightarrow A: \\mathsf{Enc}(\\mathsf{K_{AS}},\\langle\\mathsf{K_{AB}}, B, N_A, N_B \\rangle), \\mathsf{Enc}(\\mathsf{K_{BS}}, \\langle A, \\mathsf{K_{AB}} \\rangle)$\n",
    "4. $A \\rightarrow B: \\mathsf{Enc}(\\mathsf{K_{BS}}, \\langle A, \\mathsf{K_{AB}} \\rangle), \\mathsf{Enc}(\\mathsf{K_{AB}}, N_B)$\n",
    "\n",
    "\n",
    "a) Describe at least two attacks that can be applied to this protocol (If your attack reduces to simple forwarding, it will not count...).\n",
    "\n",
    "b) For each attack, give a countermeasure that renders the attack useless."
   ]
  },
  {
   "cell_type": "markdown",
   "metadata": {},
   "source": [
    "---\n",
    "\n",
    "a) Attack 1: Alice impersonation(*pg. 142*)\n",
    "\n",
    "Eve captures a the message:\n",
    "\n",
    "2. $B \\rightarrow S: Bob, N_B, \\mathsf{Enc}(\\mathsf{K_{BS}}, \\langle A, N_A, N_B \\rangle)$\n",
    "\n",
    "and changes it to\n",
    "\n",
    "2. $B \\rightarrow S: Bob, N_B, \\mathsf{Enc}(\\mathsf{K_{BS}}, \\langle A, N_A, N_B \\rangle)$\n",
    "\n",
    "\n",
    "Attack 2: Server Key Compromise\n",
    "If the server's secret key $\\mathsf{K_{AS}}$ is compromised, an attacker can mount an attack as follows:\n",
    "\n",
    "1. An attacker Eve intercepts the message from Alice to Bob: $A \\rightarrow B: Alice, N_A$.\n",
    "2. Eve intercepts the message from Bob to the server: $B \\rightarrow S: Bob, N_B, \\mathsf{Enc}(\\mathsf{K_{BS}}, \\langle A, N_A, N_B \\rangle)$.\n",
    "3. Eve intercepts the message from the server to Alice: $S \\rightarrow A: \\mathsf{Enc}(\\mathsf{K_{AS}},\\langle\\mathsf{K_{AB}}, B, N_A, N_B \\rangle), \\mathsf{Enc}(\\mathsf{K_{BS}}, \\langle A, \\mathsf{K_{AB}} \\rangle)$.\n",
    "\n",
    "Eve can decrypt the second message using the compromised $\\mathsf{K_{AS}}$, obtain $\\mathsf{K_{AB}}$, and impersonate Bob to Alice in the future. Additionally, if Eve intercepts the first and third messages, she can recover $N_A$ and $N_B$, which can be used for further attacks or to compromise the confidentiality of the protocol.\n",
    "\n",
    "b) Countermeasures:\n",
    "\n",
    "Countermeasure for Attack 1:\n",
    "To prevent eavesdropping and impersonation, Alice and Bob can authenticate each other and the server using digital signatures or a mutual authentication protocol. They should include their digital signatures in the messages to ensure the integrity and authenticity of the communication. Additionally, they can use a secure channel, such as a VPN, to protect the confidentiality of their communication.\n",
    "\n",
    "Countermeasure for Attack 2:\n",
    "To prevent the server key compromise attack, the server should store its secret key securely, using hardware security modules (HSMs) or other secure storage mechanisms. Regularly updating and rotating keys is also essential. If the server's key is compromised, Alice and Bob should have a mechanism to detect this breach and stop using that key. They can implement key revocation and renewal mechanisms to ensure the security of the protocol."
   ]
  },
  {
   "cell_type": "code",
   "execution_count": null,
   "metadata": {},
   "outputs": [],
   "source": []
  }
 ],
 "metadata": {
  "language_info": {
   "name": "python"
  }
 },
 "nbformat": 4,
 "nbformat_minor": 2
}
