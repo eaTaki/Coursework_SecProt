{
 "cells": [
  {
   "cell_type": "markdown",
   "metadata": {},
   "source": [
    "\n",
    "Consider the following key distribution protocol in which two users Alice and Bob wish to establish a shared key $\\mathsf{K_{AB}}$ with the help of a trusted server $S$. Assume Alice and Bob share secret keys $\\mathsf{K_{AS}}$ and $\\mathsf{K_{BS}}$ with $S$ and that nonces are 64 bits long and keys are 128 bits long.\n",
    "\n",
    "1. $A \\rightarrow B: Alice, N_A$\n",
    "2. $B \\rightarrow S: Bob, N_B, \\mathsf{Enc}(\\mathsf{K_{BS}}, \\langle A, N_A, N_B \\rangle)$\n",
    "3. $S \\rightarrow A: \\mathsf{Enc}(\\mathsf{K_{AS}},\\langle\\mathsf{K_{AB}}, B, N_A, N_B \\rangle), \\mathsf{Enc}(\\mathsf{K_{BS}}, \\langle A, \\mathsf{K_{AB}} \\rangle)$\n",
    "4. $A \\rightarrow B: \\mathsf{Enc}(\\mathsf{K_{BS}}, \\langle A, \\mathsf{K_{AB}} \\rangle), \\mathsf{Enc}(\\mathsf{K_{AB}}, N_B)$\n",
    "\n",
    "\n",
    "a) Describe at least two attacks that can be applied to this protocol (If your attack reduces to simple forwarding, it will not count...).\n",
    "\n",
    "b) For each attack, give a countermeasure that renders the attack useless."
   ]
  },
  {
   "cell_type": "markdown",
   "metadata": {},
   "source": [
    "---\n",
    "\n",
    "a) \n",
    "\n",
    "- Attack 1: Server Compromise\n",
    "  Given that it is the server the one that creates the key for Alice and Bob, were the server to be comprimised, all the communications established throught the server would be comprimsied too, including the $K_{AB}$\n",
    "\n",
    "\n",
    "- Attack 2: Brute Forcing keys\n",
    "\n",
    "    Eventhough the key sice is significantly big, current computers could crack keys of this size. Taking into account that $A, N_A, N_B$ are sent in plaintext an attackere *Eve* knows the content of $\\mathsf{Enc}(\\mathsf{K_{BS}}, \\langle A, N_A, N_B \\rangle)$, so this only helps finding the $K_{BS}$ key. \n",
    "\n",
    "    Once $K_{BS}$ is found, Eve can access any connection that is tried to establish with Bob by intercepting the last message: $\\mathsf{Enc}(\\mathsf{K_{BS}}, \\langle A, \\mathsf{K_{AB}} \\rangle)$ and decyphring the key\n",
    "\n",
    "b)\n",
    "\n",
    "- Countermeasure for Attack 1:\n",
    "\n",
    "    To avoid the server having access to the key, a scheme with public-secret keys communication that allows the users to share their parameters with **authenticated** messages would be more secure as well as avoiding the server from saving the keys.\n",
    "\n",
    "- Countermeasure for Attack 2:\n",
    "\n",
    "    To avoid this attack having a larger-sized key would suffice. Currently, the considered secure schemes use keys of at least 1024 bits.\n",
    "\n",
    "    Also, nonces should not be sent plainly and should be sent encrypted with the pk."
   ]
  }
 ],
 "metadata": {
  "language_info": {
   "name": "python"
  }
 },
 "nbformat": 4,
 "nbformat_minor": 2
}
