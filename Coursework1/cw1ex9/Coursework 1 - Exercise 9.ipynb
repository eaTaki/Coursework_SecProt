{
 "cells": [
  {
   "cell_type": "markdown",
   "metadata": {},
   "source": [
    "In NISEC we have developed a new encryption scheme to help Alice communicate with Bob. The scheme works as follows:\n",
    "\n",
    "To generate her keys Alice does the following: \n",
    "\n",
    "- She chooses a prime $p$, which is used as a modulus;\n",
    "- She chooses a generator $g$ of a suitable group $\\mathbb{G}$;\n",
    "- She chooses a random $x$ such that $2≤x≤p−2$;\n",
    "- She outputs her public/private key pair $(pk,sk)$ as $pk=g^x$ and $sk=x$;\n",
    "- Finally, she publishes the public parameters $(p,g,pk)$, while keeping $sk$ private.\n",
    "\n",
    "For Bob to send a message to Alice, he does the following:\n",
    "\n",
    "- He picks a message $m\\in\\mathbb{N}$;\n",
    "- He computes $c=pk⋅g^m$;\n",
    "- He sends $c=(c1,g)$ to Alice.\n",
    "\n",
    "For Alice to decrypt $c$, she does the following:\n",
    "\n",
    "- Alice recovers $sk=x$;\n",
    "- Alice computes $c1⋅g-sk=g^x⋅g^m⋅g−x=g^m$.\n",
    "  \n",
    "Moreover, recall that an encryption is called:\n",
    "\n",
    "- Linear ciphertext homomorphic if:\n",
    "$$\\text{Enc}(pk_i,x_i)⋅ … ⋅\\text{Enc}(pk_n,x_n)=\\text{Enc}(pk_1 ⋅… ⋅pk_n,x_1+…+x_n)$$\n",
    "\n",
    "- Linear key homomorphic if:\n",
    "  \n",
    "For $n$ public/private key pairs\n",
    "\n",
    "$$(pk_1, sk_1), … ,(pk_n,sk_n),$$\n",
    "\n",
    "we can construct a new public/private key pair as:\n",
    "\n",
    "$$(pk_1⋅ … ⋅pk_n,sk_1+…+sk_n)$$\n",
    "\n",
    "a) Provide at least two drawbacks of our new encryption scheme;\n",
    "\n",
    "b) Prove that our scheme is both linear ciphertext and key homomorphic.\n",
    "\n",
    "For the rest of the exercise, assume that all encrypted messages have small values (i.e. they are not of cryptographic size).\n",
    "\n",
    "We now assume that $n$\n",
    " different users independently encrypt $n$\n",
    " different values using our new encryption scheme. That is, the first user ecnrypts $x_1$ using $pk_1$, the second user encrypts $x_2$ using $pk_2$ and so on and so forth. As a next step, all $n$  users send their ciphertexts to a cloud service provider, who already possess the sum $sk_1+…+sk_n$, but not each distinct $sk_i$.\n",
    "\n",
    "c) Explain how the CSP can compute $x_1+…+x_n$."
   ]
  },
  {
   "cell_type": "markdown",
   "metadata": {},
   "source": [
    "---\n",
    "\n",
    "a) \n",
    "\n",
    "1. The proposed scheme has a decryption method that relies on being able to solve the Discrete Logarithm Problem(DLP) which is an intractable problem. For this reason, the hability of decrypt the message requires for $m$ to be small\n",
    "2. The encryption for this scheme requires a more computationally expensive operation, as well as the decryption method.\n",
    "\n",
    "b)"
   ]
  },
  {
   "cell_type": "code",
   "execution_count": 2,
   "metadata": {},
   "outputs": [
    {
     "name": "stdout",
     "output_type": "stream",
     "text": [
      "m = 14, m' = 14\n"
     ]
    }
   ],
   "source": [
    "from utils import generate_gp, generate_keys, discrete_log\n",
    "\n",
    "G, P = generate_gp(nbits=1024, num_processes=8)\n",
    "\n",
    "class NISEC_scheme():\n",
    "    def __init__(self, sk, pk):\n",
    "        self.sk = sk\n",
    "        self.pk = pk\n",
    "    def enc(self, m):\n",
    "        return (self.pk*pow(G, m, P))%P\n",
    "    def dec(self, c):\n",
    "        return discrete_log(15, G, c*pow(G, -self.sk, P)%P, P)\n",
    "    \n",
    "alice = NISEC_scheme(*generate_keys(G, P))\n",
    "bob = NISEC_scheme(*generate_keys(G, P))\n",
    "\n",
    "# Asserting Encryption and Decryption\n",
    "m = 14\n",
    "c = alice.enc(m)\n",
    "m_ = alice.dec(c)\n",
    "print(\"m = {}, m' = {}\".format(m, m_))"
   ]
  },
  {
   "cell_type": "code",
   "execution_count": 8,
   "metadata": {},
   "outputs": [
    {
     "name": "stdout",
     "output_type": "stream",
     "text": [
      "c3 = 9703111329..., c3' = 9703111329...\n",
      "14 + 15 = 29 = 29 = 29\n",
      "Linear homomorphic property is satisfied\n"
     ]
    }
   ],
   "source": [
    "# Asserting Linear homomorphic\n",
    "m1, m2 = 14, 15\n",
    "c1 = alice.enc(m1)\n",
    "c2 = bob.enc(m2)\n",
    "m3 = alice.dec(c1) + bob.dec(c2)\n",
    "c3 = (c1*c2)%P\n",
    "\n",
    "eve = NISEC_scheme((alice.sk+bob.sk)%P, (alice.pk*bob.pk)%P)\n",
    "c3_ = eve.enc((m1+m2)%P)\n",
    "m3_ = eve.dec(c3_)\n",
    "print(f\"c3 = {str(c3)[:10]}..., c3' = {str(c3_)[:10]}...\")\n",
    "print(f\"{m1} + {m2} = {m1+m2} = {m3} = {m3_}\")\n",
    "if(c3 == c3_ and m3 == m3_):\n",
    "    print(\"Linear homomorphic property is satisfied\")\n"
   ]
  },
  {
   "cell_type": "markdown",
   "metadata": {},
   "source": [
    "c) Similarly as the previous calculations, we just need to generalize for $n$ users:"
   ]
  },
  {
   "cell_type": "code",
   "execution_count": 5,
   "metadata": {},
   "outputs": [
    {
     "name": "stdout",
     "output_type": "stream",
     "text": [
      "sum(m) = 45\n",
      "CSP sum: 45\n"
     ]
    }
   ],
   "source": [
    "import numpy as np\n",
    "N = 10\n",
    "\n",
    "users = [NISEC_scheme(*generate_keys(G, P)) for _ in range(N)]\n",
    "m = [i for i in range(N)]\n",
    "sum_m = sum(m)\n",
    "print(f\"sum(m) = {sum_m}\")\n",
    "c = [users[i].enc(m[i]) for i in range(N)]\n",
    "\n",
    "CSP = NISEC_scheme(sum([users[i].sk for i in range(N)])%P, np.prod([users[i].pk for i in range(N)])%P)\n",
    "print(f\"CSP sum: {CSP.dec(int(np.prod(c)%P))}\")\n"
   ]
  },
  {
   "cell_type": "markdown",
   "metadata": {},
   "source": [
    "As we can see the LCH property that characterizes this scheme allowed us to compute the sum:\n",
    "\n",
    "$$\\text{Dec}\\left(\\sum^N_i sk_i, \\prod^N_i c_i\\right) = \\text{Dec}\\left(\\sum^N_i sk_i, \\prod^N_i \\text{Enc}(pk_i, x_i)\\right)\\\\\n",
    "=\\text{Dec}\\left(\\sum^N_i sk_i, \\text{Enc}\\left(\\prod^N_i pk_i, \\sum^N_i x_i\\right)\\right)$$"
   ]
  }
 ],
 "metadata": {
  "kernelspec": {
   "display_name": "Python 3",
   "language": "python",
   "name": "python3"
  },
  "language_info": {
   "codemirror_mode": {
    "name": "ipython",
    "version": 3
   },
   "file_extension": ".py",
   "mimetype": "text/x-python",
   "name": "python",
   "nbconvert_exporter": "python",
   "pygments_lexer": "ipython3",
   "version": "3.10.11"
  }
 },
 "nbformat": 4,
 "nbformat_minor": 2
}
