{
 "cells": [
  {
   "cell_type": "markdown",
   "metadata": {},
   "source": [
    "In NISEC we have developed a new encryption scheme to help Alice communicate with Bob. The scheme works as follows:\n",
    "\n",
    "To generate her keys Alice does the following: \n",
    "\n",
    "- She chooses a prime $p$, which is used as a modulus;\n",
    "- She chooses a generator $g$ of a suitable group $\\mathbb{G}$;\n",
    "- She chooses a random $x$ such that $2≤x≤p−2$;\n",
    "- She outputs her public/private key pair $(pk,sk)$ as $pk=g^x$ and $sk=x$;\n",
    "- Finally, she publishes the public parameters $(p,g,pk)$, while keeping $sk$ private.\n",
    "\n",
    "For Bob to send a message to Alice, he does the following:\n",
    "\n",
    "- He picks a message $m\\in\\mathbb{N}$;\n",
    "- He computes $c=pk⋅g^m$;\n",
    "- He sends $c=(c1,g)$ to Alice.\n",
    "\n",
    "For Alice to decrypt $c$, she does the following:\n",
    "\n",
    "- Alice recovers $sk=x$;\n",
    "- Alice computes $c1⋅g-sk=g^x⋅g^m⋅g−x=g^m$.\n",
    "  \n",
    "Moreover, recall that an encryption is called:\n",
    "\n",
    "- Linear ciphertext homomorphic if:\n",
    "$$\\text{Enc}(pk_i,x_i)⋅ … ⋅\\text{Enc}(pk_n,x_n)=\\text{Enc}(pk_1 ⋅… ⋅pk_n,x_1+…+x_n)$$\n",
    "\n",
    "- Linear key homomorphic if:\n",
    "  \n",
    "For $n$ public/private key pairs\n",
    "\n",
    "$$(pk_1, sk_1), … ,(pk_n,sk_n),$$\n",
    "\n",
    "we can construct a new public/private key pair as:\n",
    "\n",
    "$$(pk_1⋅ … ⋅pk_n,sk_1+…+sk_n)$$\n",
    "\n",
    "a) Provide at least two drawbacks of our new encryption scheme;\n",
    "\n",
    "b) Prove that our scheme is both linear ciphertext and key homomorphic.\n",
    "\n",
    "For the rest of the exercise, assume that all encrypted messages have small values (i.e. they are not of cryptographic size).\n",
    "\n",
    "We now assume that $n$\n",
    " different users independently encrypt $n$\n",
    " different values using our new encryption scheme. That is, the first user ecnrypts $x_1$ using $pk_1$, the second user encrypts $x_2$ using $pk_2$ and so on and so forth. As a next step, all $n$  users send their ciphertexts to a cloud service provider, who already possess the sum $sk_1+…+sk_n$, but not each distinct $sk_i$.\n",
    "\n",
    "c) Explain how the CSP can compute $x_1+…+x_n$."
   ]
  },
  {
   "cell_type": "code",
   "execution_count": null,
   "metadata": {},
   "outputs": [],
   "source": []
  }
 ],
 "metadata": {
  "language_info": {
   "name": "python"
  }
 },
 "nbformat": 4,
 "nbformat_minor": 2
}
